{
 "cells": [
  {
   "cell_type": "markdown",
   "metadata": {},
   "source": [
    "This is the jupiter notebook that Zhou writes some test functions"
   ]
  },
  {
   "cell_type": "code",
   "execution_count": 1,
   "metadata": {},
   "outputs": [],
   "source": [
    "import numpy as np\n",
    "import scipy"
   ]
  },
  {
   "cell_type": "code",
   "execution_count": 8,
   "metadata": {},
   "outputs": [
    {
     "name": "stdout",
     "output_type": "stream",
     "text": [
      "test_func_val: \n",
      " 4.945001319444042\n",
      "test_func_grad_val: \n",
      " [5.08411671 3.14113769 2.4350387  2.9669255  4.12976392]\n",
      "test_func_hess_val: \n",
      " [[2.5948674  1.50611307 1.29359801 1.35762705 2.17204045]\n",
      " [1.50611307 0.95865671 0.69628207 0.66211846 1.30708042]\n",
      " [1.29359801 0.69628207 1.0214591  0.40185289 1.06715744]\n",
      " [1.35762705 0.66211846 0.40185289 1.43288339 1.09011586]\n",
      " [2.17204045 1.30708042 1.06715744 1.09011586 2.08498899]]\n"
     ]
    }
   ],
   "source": [
    "import numpy as np\n",
    "\n",
    "n = 5\n",
    "Q = np.random.rand(n, n)\n",
    "Q = np.dot(Q, Q.T)  # Making Q symmetric to ensure it's positive semi-definite\n",
    "q = np.random.rand(n)\n",
    "x = np.random.rand(n)\n",
    "\n",
    "def test_func(x):\n",
    "    val = 0.5 * np.dot(x.T, np.dot(Q, x)) + np.dot(q.T, x)\n",
    "    val = val.ravel()[0]\n",
    "    return val\n",
    "\n",
    "def test_func_grad(x):\n",
    "    grad = np.dot(Q, x) + q\n",
    "    grad = grad.ravel() \n",
    "    return grad\n",
    "\n",
    "def test_func_hess(x):\n",
    "    return Q\n",
    "\n",
    "\n",
    "test_func_val = test_func(x)\n",
    "test_func_grad_val = test_func_grad(x)\n",
    "test_func_hess_val = test_func_hess(x)\n",
    "\n",
    "print(\"test_func_val: \\n\", test_func_val)\n",
    "print(\"test_func_grad_val: \\n\", test_func_grad_val)\n",
    "print(\"test_func_hess_val: \\n\", test_func_hess_val)\n",
    "\n"
   ]
  }
 ],
 "metadata": {
  "kernelspec": {
   "display_name": "qids-2023-comp",
   "language": "python",
   "name": "python3"
  },
  "language_info": {
   "codemirror_mode": {
    "name": "ipython",
    "version": 3
   },
   "file_extension": ".py",
   "mimetype": "text/x-python",
   "name": "python",
   "nbconvert_exporter": "python",
   "pygments_lexer": "ipython3",
   "version": "3.9.16"
  }
 },
 "nbformat": 4,
 "nbformat_minor": 2
}
