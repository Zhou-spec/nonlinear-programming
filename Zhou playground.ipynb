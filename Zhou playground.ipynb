{
 "cells": [
  {
   "cell_type": "markdown",
   "metadata": {},
   "source": [
    "This is the jupiter notebook that Zhou writes some test functions"
   ]
  },
  {
   "cell_type": "code",
   "execution_count": 1,
   "metadata": {},
   "outputs": [],
   "source": [
    "import numpy as np\n",
    "import scipy"
   ]
  },
  {
   "cell_type": "code",
   "execution_count": 2,
   "metadata": {},
   "outputs": [
    {
     "name": "stdout",
     "output_type": "stream",
     "text": [
      "test_func_val: \n",
      " 7.038824046595592\n",
      "test_func_grad_val: \n",
      " [4.43842012 2.13007518 2.81552168 5.20505467 4.64008349]\n",
      "test_func_hess_val: \n",
      " [[2.04260149 0.76979615 1.21756508 1.08151568 1.12613924]\n",
      " [0.76979615 0.48963149 0.27547615 0.65241444 0.61787782]\n",
      " [1.21756508 0.27547615 1.31443081 0.79625763 0.63283644]\n",
      " [1.08151568 0.65241444 0.79625763 2.22067753 1.84243191]\n",
      " [1.12613924 0.61787782 0.63283644 1.84243191 1.78172093]]\n"
     ]
    }
   ],
   "source": [
    "import numpy as np\n",
    "\n",
    "n = 5\n",
    "Q = np.random.rand(n, n)\n",
    "Q = np.dot(Q, Q.T)  # Making Q symmetric to ensure it's positive semi-definite\n",
    "q = np.random.rand(n)\n",
    "x = np.random.rand(n)\n",
    "\n",
    "def test_func(x):\n",
    "    val = 0.5 * np.dot(x.T, np.dot(Q, x)) + np.dot(q.T, x)\n",
    "    val = val.ravel()[0]\n",
    "    return val\n",
    "\n",
    "def test_func_grad(x):\n",
    "    grad = np.dot(Q, x) + q\n",
    "    grad = grad.ravel() \n",
    "    return grad\n",
    "\n",
    "def test_func_hess(x):\n",
    "    return Q\n",
    "\n",
    "\n",
    "test_func_val = test_func(x)\n",
    "test_func_grad_val = test_func_grad(x)\n",
    "test_func_hess_val = test_func_hess(x)\n",
    "\n",
    "print(\"test_func_val: \\n\", test_func_val)\n",
    "print(\"test_func_grad_val: \\n\", test_func_grad_val)\n",
    "print(\"test_func_hess_val: \\n\", test_func_hess_val)\n",
    "\n"
   ]
  },
  {
   "cell_type": "code",
   "execution_count": 10,
   "metadata": {},
   "outputs": [
    {
     "name": "stdout",
     "output_type": "stream",
     "text": [
      "x: \n",
      " [nan nan nan nan nan]\n",
      "f: \n",
      " nan\n"
     ]
    }
   ],
   "source": [
    "from algo_methods import *\n",
    "def gradient_descent(f, f_grad, x_init, line_search_method = 'armijo', tao = 0.5, c1 = 1e-4, c2=0.9, threshold = 1e-9, max_iter = 1000):\n",
    "    x_curr = x_init\n",
    "    for i in range(max_iter):\n",
    "        p_curr = -f_grad(x_curr)\n",
    "        alpha = 1.0\n",
    "        if line_search_method == 'armijo':\n",
    "            alpha = armijo_line_search(f, f_grad, x_curr, tao, c1)\n",
    "        elif line_search_method == 'wolfe':\n",
    "            alpha = wolfe_line_search(f, f_grad, x_curr, p_curr, c1, c2)\n",
    "        x_curr = x_curr + alpha * p_curr\n",
    "        if np.linalg.norm(f_grad(x_curr)) < threshold:\n",
    "            break\n",
    "    return x_curr, f(x_curr)\n",
    "\n",
    "x, f = gradient_descent(test_func, test_func_grad, x, 0.01, 1000)\n",
    "print(\"x: \\n\", x)\n",
    "print(\"f: \\n\", f)"
   ]
  },
  {
   "cell_type": "code",
   "execution_count": null,
   "metadata": {},
   "outputs": [],
   "source": []
  },
  {
   "cell_type": "code",
   "execution_count": 25,
   "metadata": {},
   "outputs": [
    {
     "ename": "IndentationError",
     "evalue": "expected an indented block (3931158593.py, line 8)",
     "output_type": "error",
     "traceback": [
      "\u001b[1;36m  Cell \u001b[1;32mIn[25], line 8\u001b[1;36m\u001b[0m\n\u001b[1;33m    \u001b[0m\n\u001b[1;37m    ^\u001b[0m\n\u001b[1;31mIndentationError\u001b[0m\u001b[1;31m:\u001b[0m expected an indented block\n"
     ]
    }
   ],
   "source": [
    "from algo_methods import *\n",
    "\n",
    "\n",
    "def Newton_CG_method(f, f_grad, f_hessian, x0, line_search_type='wolfe', tol=1e-2, \n",
    "                     max_iteration=100, c1=0.0001, c2=0.9, eta=0.01):\n",
    "    \n",
    "\n",
    "    \n"
   ]
  }
 ],
 "metadata": {
  "kernelspec": {
   "display_name": "qids-2023-comp",
   "language": "python",
   "name": "python3"
  },
  "language_info": {
   "codemirror_mode": {
    "name": "ipython",
    "version": 3
   },
   "file_extension": ".py",
   "mimetype": "text/x-python",
   "name": "python",
   "nbconvert_exporter": "python",
   "pygments_lexer": "ipython3",
   "version": "3.9.16"
  }
 },
 "nbformat": 4,
 "nbformat_minor": 2
}
