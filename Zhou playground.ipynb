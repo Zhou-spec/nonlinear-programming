{
 "cells": [
  {
   "cell_type": "markdown",
   "metadata": {},
   "source": [
    "This is the jupiter notebook that Zhou writes some test functions"
   ]
  },
  {
   "cell_type": "code",
   "execution_count": 60,
   "metadata": {},
   "outputs": [],
   "source": [
    "import numpy as np\n",
    "import scipy"
   ]
  },
  {
   "cell_type": "code",
   "execution_count": 50,
   "metadata": {},
   "outputs": [
    {
     "name": "stdout",
     "output_type": "stream",
     "text": [
      "test_func_val: \n",
      " 9.789765429386204\n",
      "test_func_grad_val: \n",
      " [4.81241808 5.54614523 5.14090514 6.7358019  5.26415593]\n",
      "test_func_hess_val: \n",
      " [[1.6248814  1.40678561 1.37713353 1.52266631 1.363841  ]\n",
      " [1.40678561 1.45324591 1.54541516 1.48056116 1.26444254]\n",
      " [1.37713353 1.54541516 1.81753313 1.66044483 1.43867821]\n",
      " [1.52266631 1.48056116 1.66044483 2.63809107 1.81595291]\n",
      " [1.363841   1.26444254 1.43867821 1.81595291 1.50047191]]\n"
     ]
    }
   ],
   "source": [
    "import numpy as np\n",
    "\n",
    "n = 5\n",
    "Q = np.random.rand(n, n)\n",
    "Q = np.dot(Q, Q.T)  # Making Q symmetric to ensure it's positive semi-definite\n",
    "q = np.random.rand(n)\n",
    "x = np.random.rand(n)\n",
    "\n",
    "def test_func(x):\n",
    "    val = 0.5 * np.dot(x.T, np.dot(Q, x)) + np.dot(q.T, x)\n",
    "    val = val.ravel()[0]\n",
    "    return val\n",
    "\n",
    "def test_func_grad(x):\n",
    "    grad = np.dot(Q, x) + q\n",
    "    grad = grad.ravel() \n",
    "    return grad\n",
    "\n",
    "def test_func_hess(x):\n",
    "    return Q\n",
    "\n",
    "\n",
    "test_func_val = test_func(x)\n",
    "test_func_grad_val = test_func_grad(x)\n",
    "test_func_hess_val = test_func_hess(x)\n",
    "\n",
    "print(\"test_func_val: \\n\", test_func_val)\n",
    "print(\"test_func_grad_val: \\n\", test_func_grad_val)\n",
    "print(\"test_func_hess_val: \\n\", test_func_hess_val)\n",
    "\n"
   ]
  },
  {
   "cell_type": "markdown",
   "metadata": {},
   "source": [
    "The following code is implementation for armijo line search and wolfe line search"
   ]
  },
  {
   "cell_type": "code",
   "execution_count": 54,
   "metadata": {},
   "outputs": [],
   "source": [
    "def armijo_line_search(f, f_grad, x_curr, tao, c):\n",
    "    alpha = 1.0  # Starting with a default step size\n",
    "    p_curr = -f_grad(x_curr)\n",
    "    while f(x_curr + alpha * p_curr) > f(x_curr) + c * alpha * np.dot(f_grad(x_curr), p_curr):\n",
    "        alpha *= tao\n",
    "    return alpha\n",
    "\n",
    "def wolfe_line_search(f, f_grad, x_curr, p_curr, c1, c2):\n",
    "    alpha = 1  # Initial step size\n",
    "    alpha_max = np.inf\n",
    "    alpha_min = 0\n",
    "    while True:\n",
    "        if f(x_curr + alpha * p_curr) > f(x_curr) + c1 * alpha * np.dot(f_grad(x_curr), p_curr):\n",
    "            alpha_max = alpha\n",
    "            alpha = 0.5 * (alpha_min + alpha_max)\n",
    "        elif np.dot(f_grad(x_curr + alpha * p_curr), p_curr) < c2 * np.dot(f_grad(x_curr), p_curr):\n",
    "            alpha_min = alpha\n",
    "            if alpha_max == np.inf:\n",
    "                alpha = 2 * alpha_min\n",
    "            else:\n",
    "                alpha = 0.5 * (alpha_min + alpha_max)\n",
    "        else:\n",
    "            break\n",
    "    return alpha\n"
   ]
  },
  {
   "cell_type": "markdown",
   "metadata": {},
   "source": [
    "The following code is gradient descent method"
   ]
  },
  {
   "cell_type": "code",
   "execution_count": 57,
   "metadata": {},
   "outputs": [],
   "source": [
    "def gradient_descent(f, f_grad, x0, method='armijo', tao=0.5, c1=1e-4, c2=0.9, threshold=1e-5, max_iter=1000):\n",
    "    x_curr = x0\n",
    "\n",
    "    for _ in range(max_iter):\n",
    "        grad_curr = f_grad(x_curr)\n",
    "        if np.linalg.norm(grad_curr) < threshold:\n",
    "            break\n",
    "        \n",
    "        p_curr = -grad_curr\n",
    "        if method == 'armijo':\n",
    "            alpha = armijo_line_search(f, f_grad, x_curr, tao, c1)\n",
    "        elif method == 'wolfe':\n",
    "            alpha = wolfe_line_search(f, f_grad, x_curr, p_curr, c1, c2)\n",
    "        else:\n",
    "            raise ValueError(\"Invalid method specified. Choose 'armijo' or 'wolfe'.\")\n",
    "        \n",
    "        x_curr = x_curr + alpha * p_curr\n",
    "\n",
    "    return x_curr, f(x_curr)\n",
    "        "
   ]
  },
  {
   "cell_type": "code",
   "execution_count": 59,
   "metadata": {},
   "outputs": [
    {
     "name": "stdout",
     "output_type": "stream",
     "text": [
      "x_final: \n",
      " [ 42.03650355 -70.11482225  49.46740018  12.88251297 -42.25930528]\n",
      "f_final: \n",
      " -46.47250726512668\n"
     ]
    }
   ],
   "source": [
    "x_final, f_final =  gradient_descent(test_func, test_func_grad, x, method='armijo', tao=0.5, c1=1e-4, c2=0.9, threshold=1e-5, max_iter=1000)\n",
    "print(\"x_final: \\n\", x_final)\n",
    "print(\"f_final: \\n\", f_final)"
   ]
  },
  {
   "cell_type": "markdown",
   "metadata": {},
   "source": [
    "The following code is modfied Newton method"
   ]
  },
  {
   "cell_type": "code",
   "execution_count": 62,
   "metadata": {},
   "outputs": [],
   "source": [
    "def modified_Newton_method(f, f_grad, f_hess, x0, line_search_method='armijo', tau=0.5, c1=1e-4, c2=0.9, threshold=1e-5, max_iter=1000):\n",
    "    x_curr = np.array(x0, dtype=float)\n",
    "\n",
    "    for _ in range(max_iter):\n",
    "        grad_curr = f_grad(x_curr)\n",
    "        if np.linalg.norm(grad_curr) < threshold:\n",
    "            break\n",
    "\n",
    "        # Compute the Hessian and adjust it if necessary\n",
    "        A = f_hess(x_curr)\n",
    "        beta = 0.0001\n",
    "        delta = max(0, -np.min(np.linalg.eigvalsh(A)) + beta)\n",
    "\n",
    "        while True:\n",
    "            try:\n",
    "                # Try Cholesky decomposition to test positive definiteness\n",
    "                scipy.linalg.cholesky(A + delta * np.eye(len(x_curr)))\n",
    "                break\n",
    "            except scipy.linalg.LinAlgError:\n",
    "                delta = max(2 * delta, beta)\n",
    "        \n",
    "        # Adjusted Hessian\n",
    "        Bk = A + delta * np.eye(len(x_curr))\n",
    "        # Solve for the search direction\n",
    "        p_curr = -scipy.linalg.solve(Bk, grad_curr)\n",
    "\n",
    "        # Perform line search based on the specified method\n",
    "        if line_search_method == 'armijo':\n",
    "            alpha = armijo_line_search(f, f_grad, x_curr, tau, c1)\n",
    "        elif line_search_method == 'wolfe':\n",
    "            alpha = wolfe_line_search(f, f_grad, x_curr, p_curr, c1, c2)\n",
    "        else:\n",
    "            raise ValueError(\"Invalid line search method specified.\")\n",
    "        \n",
    "        x_curr = x_curr + alpha * p_curr\n",
    "\n",
    "        # if current gradient norm is less than threshold, break\n",
    "        grad_curr = f_grad(x_curr)\n",
    "        if np.linalg.norm(grad_curr) < threshold:\n",
    "            break\n",
    "\n",
    "    return x_curr, f(x_curr)\n"
   ]
  },
  {
   "cell_type": "code",
   "execution_count": 64,
   "metadata": {},
   "outputs": [
    {
     "name": "stdout",
     "output_type": "stream",
     "text": [
      "x_final: \n",
      " [  69.65648324 -114.72340133   81.14218871   22.02533092  -71.37345276]\n",
      "f_final: \n",
      " -54.9071665059195\n"
     ]
    }
   ],
   "source": [
    "# running the modified Newton method\n",
    "x_final, f_final = modified_Newton_method(test_func, test_func_grad, test_func_hess, x, line_search_method='armijo', tau=0.5, c1=1e-4, c2=0.9, threshold=1e-5, max_iter=1000)\n",
    "print(\"x_final: \\n\", x_final)\n",
    "print(\"f_final: \\n\", f_final)"
   ]
  }
 ],
 "metadata": {
  "kernelspec": {
   "display_name": "qids-2023-comp",
   "language": "python",
   "name": "python3"
  },
  "language_info": {
   "codemirror_mode": {
    "name": "ipython",
    "version": 3
   },
   "file_extension": ".py",
   "mimetype": "text/x-python",
   "name": "python",
   "nbconvert_exporter": "python",
   "pygments_lexer": "ipython3",
   "version": "3.9.16"
  }
 },
 "nbformat": 4,
 "nbformat_minor": 2
}
