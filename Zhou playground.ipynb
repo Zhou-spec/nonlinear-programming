{
 "cells": [
  {
   "cell_type": "markdown",
   "metadata": {},
   "source": [
    "This is the jupiter notebook that Zhou writes some test functions"
   ]
  },
  {
   "cell_type": "code",
   "execution_count": 38,
   "metadata": {},
   "outputs": [],
   "source": [
    "# try to define the function gradient and hessian \n",
    "\n",
    "import numpy as np\n",
    "import scipy\n",
    "\n",
    "from optimize_obj import *\n",
    "\n",
    "\n",
    "####################################################################\n",
    "# the following is the quad function\n",
    "def quad(x, Q, q):\n",
    "    # dim is the dimension of the problem\n",
    "    # x is numpy array\n",
    "    return 0.5 * np.matmul(x, np.matmul(Q, x.transpose())) + np.dot(q, x)\n",
    "\n",
    "def quad_grad(x, Q, q):\n",
    "    return np.matmul(Q, x) + q\n",
    "\n",
    "def quad_hessian(x, Q, q):\n",
    "    return Q\n",
    "\n",
    "\n",
    "\n",
    "\n",
    "\n",
    "def quad_obj(Q, q):\n",
    "    dim = len(q)\n",
    "    quad_val = lambda x: quad(x, Q, q)\n",
    "    quad_grad_val = lambda x: quad_grad(x, Q, q)\n",
    "    quad_hessian_val = lambda x: quad_hessian(x, Q, q)\n",
    "    return Obj(dim, quad_val, quad_grad_val, quad_hessian_val)\n",
    "\n",
    "q = quad_obj(np.array([[1, 0], [0, 1]]), np.array([1, 1]))\n"
   ]
  },
  {
   "cell_type": "code",
   "execution_count": 40,
   "metadata": {},
   "outputs": [
    {
     "data": {
      "text/plain": [
       "3400.6734006734005"
      ]
     },
     "execution_count": 40,
     "metadata": {},
     "output_type": "execute_result"
    }
   ],
   "source": [
    "x = np.linspace(-10, 10, 100)\n",
    "np.matmul(x, x)"
   ]
  },
  {
   "cell_type": "code",
   "execution_count": 69,
   "metadata": {},
   "outputs": [
    {
     "name": "stdout",
     "output_type": "stream",
     "text": [
      "3\n"
     ]
    },
    {
     "data": {
      "text/plain": [
       "array([[298.5, 289. , 297.5],\n",
       "       [289. , 298.5, 306. ],\n",
       "       [289. , 289. , 392. ]])"
      ]
     },
     "execution_count": 69,
     "metadata": {},
     "output_type": "execute_result"
    }
   ],
   "source": [
    "def special_quad(x, Q, sigma):\n",
    "    val = 0.5 * np.matmul(x, x) + 0.25 * sigma * np.power(np.matmul(x, np.matmul(Q, x)), 2)\n",
    "    return val\n",
    "\n",
    "def special_quad_grad(x, Q, sigma):\n",
    "    return x + 0.5 * sigma * np.matmul(Q, x) * np.matmul(x, np.matmul(Q, x))\n",
    "\n",
    "def special_quad_hessian(x, Q, sigma):\n",
    "    return np.eye(len(x)) + sigma * np.power(np.matmul(x, np.matmul(Q, x)), 2) + 0.5 * sigma * np.matmul(x, np.matmul(Q, x)) * Q\n",
    "\n",
    "def special_quad_obj(Q, sigma):\n",
    "    dim = len(Q)\n",
    "    print(dim)\n",
    "    quad_val = lambda x: special_quad(x, Q, sigma)\n",
    "    quad_grad_val = lambda x: special_quad_grad(x, Q, sigma)\n",
    "    quad_hessian_val = lambda x: special_quad_hessian(x, Q, sigma)\n",
    "    return Obj(dim, quad_val, quad_grad_val, quad_hessian_val)\n",
    "\n",
    "\n",
    "spq = special_quad_obj(np.array([[1, 0, 1], [0, 1, 2], [0, 0, 12]]), 1)\n",
    "spq.hessian(np.array([1, 1, 1]))    "
   ]
  },
  {
   "cell_type": "code",
   "execution_count": 63,
   "metadata": {},
   "outputs": [
    {
     "data": {
      "text/plain": [
       "array([[0, 4],\n",
       "       [4, 2]])"
      ]
     },
     "execution_count": 63,
     "metadata": {},
     "output_type": "execute_result"
    }
   ],
   "source": [
    "def data_fit(x, y):\n",
    "    return np.sum((y - x[0] * (1 - x[1]))**2)\n",
    "\n",
    "def data_fit_grad(x, y):\n",
    "    # parital derivative with respect to x[0], x[1]\n",
    "    return np.array([2 * np.sum((y - x[0] * (1 - x[1])) * (x[1] - 1)), 2 * np.sum((y - x[0] * (1 - x[1])) * x[0])])\n",
    "\n",
    "def data_fit_hessian(x, y):\n",
    "    f_xx = 2 * np.sum((1 - x[1])**2)\n",
    "    f_yy = 2 * np.sum(x[0]**2)\n",
    "    f_xy = 2 * np.sum(y - 2 * x[0] + 2 * x[0] * x[1])\n",
    "    return np.array([[f_xx, f_xy], [f_xy, f_yy]])\n",
    "\n",
    "                    \n",
    "def data_fit_obj(y):\n",
    "    dim = 2\n",
    "    data_fit_val = lambda x: data_fit(x, y)\n",
    "    data_fit_grad_val = lambda x: data_fit_grad(x, y)\n",
    "    data_fit_hessian_val = lambda x: data_fit_hessian(x, y)\n",
    "    return Obj(dim, data_fit_val, data_fit_grad_val, data_fit_hessian_val)\n",
    "\n",
    "data_fit_obj(np.array([1, 1])).hessian(np.array([1, 1]))\n",
    "    \n"
   ]
  },
  {
   "cell_type": "code",
   "execution_count": 73,
   "metadata": {},
   "outputs": [
    {
     "data": {
      "text/plain": [
       "array([[0.00969746, 0.        , 0.        ],\n",
       "       [0.        , 0.        , 0.        ],\n",
       "       [0.        , 0.        , 0.        ]])"
      ]
     },
     "execution_count": 73,
     "metadata": {},
     "output_type": "execute_result"
    }
   ],
   "source": [
    "def exponential(dim, x):\n",
    "    # exponential function is defined as\n",
    "    # frac{exp(x_1) - 1}{exp(x_1) + 1} + 0.1 exp{-x_1} + sum_{i=2}^d (x_i - 1)^4\n",
    "    val = (np.exp(x[0]) - 1) / (np.exp(x[0]) + 1) + 0.1 * np.exp(-x[0]) + np.sum((x[1:] - 1)**4)\n",
    "    return val\n",
    "\n",
    "def exponential_grad(dim, x):\n",
    "    # gradient of the exponential function\n",
    "    grad = np.zeros(dim)\n",
    "    grad[0] = (2 * np.exp(x[0])) / (np.exp(x[0]) + 1)**2 - 0.1 * np.exp(-x[0]) \n",
    "    grad[1:] = 4 * (x[1:] - 1)**3\n",
    "    return grad\n",
    "\n",
    "def exponential_hessian(dim, x):\n",
    "    # hessian of the exponential function\n",
    "    hessian = np.zeros((dim, dim))\n",
    "    hessian[0, 0] = (2 * np.exp(x[0]) * np.power(np.exp(x[0]) + 1, 2) - 4 * np.exp(x[0]) * (np.exp(x[0] + 1))) / np.power(np.exp(x[0]) + 1, 4) + 0.1 * np.exp(-x[0])\n",
    "    for i in range(1, dim):\n",
    "        hessian[i, i] = 12 * np.power(x[i] - 1, 2)\n",
    "\n",
    "    return hessian\n",
    "\n",
    "def exponential_obj(dim):\n",
    "    exp_val = lambda x: exponential(dim, x)\n",
    "    exp_grad = lambda x: exponential_grad(dim, x)\n",
    "    exp_hessian = lambda x: exponential_hessian(dim, x)\n",
    "    return Obj(dim, exp_val, exp_grad, exp_hessian)\n",
    "\n",
    "exponential_obj(3, np.array([1, 1, 1])).hessian(np.array([1, 1, 1]))\n",
    "    \n",
    "\n"
   ]
  },
  {
   "cell_type": "code",
   "execution_count": 78,
   "metadata": {},
   "outputs": [
    {
     "data": {
      "text/plain": [
       "array([[-0.14967101,  1.14550003,  0.        ],\n",
       "       [ 1.14550003, -0.14967101,  1.14550003],\n",
       "       [ 0.        ,  1.14550003, -0.14967101]])"
      ]
     },
     "execution_count": 78,
     "metadata": {},
     "output_type": "execute_result"
    }
   ],
   "source": [
    "def genhump(dim, x):\n",
    "    # sum of sin(2 * x_i)^2 * sin(2 * x_{i+1})^2 + 0.05 * (x_i^2 + x_{i+1}^2)\n",
    "    val = 0\n",
    "    for i in range(dim - 1):\n",
    "        val += np.power(np.sin(2 * x[i]), 2) * np.power(np.sin(2 * x[i+1]), 2) + 0.05 * (x[i]**2 + x[i+1]**2)\n",
    "\n",
    "    return val\n",
    "\n",
    "def genhump_grad(dim, x):   \n",
    "    grad = np.zeros(dim)\n",
    "    grad[0] = 4 * np.sin(2 * x[0]) * np.cos(2 * x[0]) * np.power(np.sin(2 * x[1]), 2) + 0.1 * x[0]\n",
    "    for i in range(1, dim - 1): \n",
    "        grad[i] = 4 * np.sin(2 * x[i]) * np.cos(2 * x[i]) * np.power(np.sin(2 * x[i+1]), 2) + 0.1 * x[i]\n",
    "        grad[i] += 4 * np.sin(2 * x[i]) * np.cos(2 * x[i]) * np.power(np.sin(2 * x[i-1]), 2) + 0.1 * x[i]\n",
    "\n",
    "    grad[-1] = 4 * np.sin(2 * x[-1]) * np.cos(2 * x[-1]) * np.power(np.sin(2 * x[-2]), 2) + 0.1 * x[-1]\n",
    "    return grad\n",
    "\n",
    "def genhump_hess(dim, x):\n",
    "    hess = np.zeros((dim, dim))\n",
    "    hess[0, 0] = 8 * np.cos(2 * x[0]) * np.power(np.sin(2 * x[1]), 2) - 8 * np.power(np.sin(2 * x[0]), 2) * np.sin(2 * x[1]) * np.cos(2 * x[1]) + 0.1\n",
    "    hess[0, 1] = 8 * np.sin(2 * x[0]) * np.cos(2 * x[0]) * np.sin(2 * x[1]) * np.cos(2 * x[1])\n",
    "    for i in range(1, dim - 1):\n",
    "        hess[i, i] = 8 * np.cos(2 * x[i]) * np.power(np.sin(2 * x[i+1]), 2) - 8 * np.power(np.sin(2 * x[i]), 2) * np.sin(2 * x[i+1]) * np.cos(2 * x[i+1]) + 0.1\n",
    "        hess[i, i+1] = 8 * np.sin(2 * x[i]) * np.cos(2 * x[i]) * np.sin(2 * x[i+1]) * np.cos(2 * x[i+1])\n",
    "        hess[i, i-1] = 8 * np.sin(2 * x[i]) * np.cos(2 * x[i]) * np.sin(2 * x[i-1]) * np.cos(2 * x[i-1])\n",
    "\n",
    "    hess[-1, -1] = 8 * np.cos(2 * x[-1]) * np.power(np.sin(2 * x[-2]), 2) - 8 * np.power(np.sin(2 * x[-1]), 2) * np.sin(2 * x[-2]) * np.cos(2 * x[-2]) + 0.1\n",
    "    hess[-1, -2] = 8 * np.sin(2 * x[-1]) * np.cos(2 * x[-1]) * np.sin(2 * x[-2]) * np.cos(2 * x[-2])\n",
    "    return hess\n",
    "\n",
    "def genhump_obj(dim):\n",
    "    genhump_val = lambda x: genhump(dim, x)\n",
    "    genhump_grad_val = lambda x: genhump_grad(dim, x)\n",
    "    genhump_hess_val = lambda x: genhump_hess(dim, x)\n",
    "    return Obj(dim, genhump_val, genhump_grad_val, genhump_hess_val)    \n",
    "\n",
    "genhump_obj(3).hessian(np.array([1, 1, 1]))"
   ]
  }
 ],
 "metadata": {
  "kernelspec": {
   "display_name": "qids-2023-comp",
   "language": "python",
   "name": "python3"
  },
  "language_info": {
   "codemirror_mode": {
    "name": "ipython",
    "version": 3
   },
   "file_extension": ".py",
   "mimetype": "text/x-python",
   "name": "python",
   "nbconvert_exporter": "python",
   "pygments_lexer": "ipython3",
   "version": "3.9.16"
  }
 },
 "nbformat": 4,
 "nbformat_minor": 2
}
