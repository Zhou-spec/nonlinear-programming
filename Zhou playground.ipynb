{
 "cells": [
  {
   "cell_type": "markdown",
   "metadata": {},
   "source": [
    "This is the jupiter notebook that Zhou writes some test functions"
   ]
  },
  {
   "cell_type": "code",
   "execution_count": null,
   "metadata": {},
   "outputs": [],
   "source": [
    "from functions import *\n",
    "from optimize_obj import *\n",
    "from Optalg import *\n",
    "from runcase import *\n",
    "import pandas as pd"
   ]
  },
  {
   "cell_type": "code",
   "execution_count": null,
   "metadata": {},
   "outputs": [],
   "source": [
    "def generate_quad_coeffs(n, k):\n",
    "    # n is dimension\n",
    "    # k is condition number\n",
    "    np.random.seed(0)\n",
    "    Q = np.random.rand(n, n)\n",
    "    Q, _ = np.linalg.qr(Q)\n",
    "    eigenvalues = np.linspace(1, k, n)\n",
    "    D = np.diag(eigenvalues)\n",
    "    Q = Q @ D @ Q.T\n",
    "\n",
    "    # Ensure Q is positive definite and the condition number is approximately k\n",
    "    assert np.all(np.linalg.eigvals(Q) > 0), \"Matrix Q is not positive definite.\"\n",
    "    assert np.isclose(np.linalg.cond(Q), k), \"Condition number of matrix Q is not approximately k.\"\n",
    "\n",
    "    q = np.random.rand(n)\n",
    "\n",
    "    return Q, q"
   ]
  },
  {
   "cell_type": "markdown",
   "metadata": {},
   "source": [
    "This is for the problem 1"
   ]
  },
  {
   "cell_type": "code",
   "execution_count": null,
   "metadata": {},
   "outputs": [],
   "source": [
    "Q1, q1 = generate_quad_coeffs(10, 10)\n",
    "\n",
    "# generate 10 random numbers between 0, 1\n",
    "np.random.seed(0)\n",
    "x0 = 20 * np.random.rand(10) - 10\n",
    "#obj = quad_obj(Q1, q1)\n",
    "obj = rosenbrock_obj(10)\n",
    "x0 = np.ones(10) * 2.2\n",
    "\n",
    "runcase(obj, x0, Objname = 'p1',make_table = True)\n",
    "#runcase(obj, x0, Objname = 'p1', line_search_method = 'Wolfe', make_table = True)"
   ]
  },
  {
   "cell_type": "code",
   "execution_count": null,
   "metadata": {},
   "outputs": [],
   "source": []
  },
  {
   "cell_type": "code",
   "execution_count": null,
   "metadata": {},
   "outputs": [],
   "source": [
    "obj.method_options.methodname"
   ]
  },
  {
   "cell_type": "code",
   "execution_count": null,
   "metadata": {},
   "outputs": [],
   "source": []
  },
  {
   "cell_type": "code",
   "execution_count": null,
   "metadata": {},
   "outputs": [],
   "source": []
  },
  {
   "cell_type": "markdown",
   "metadata": {},
   "source": [
    "This is for the problem 2"
   ]
  },
  {
   "cell_type": "code",
   "execution_count": 4,
   "metadata": {},
   "outputs": [
    {
     "ename": "TypeError",
     "evalue": "runcase() got an unexpected keyword argument 'line_search_method'",
     "output_type": "error",
     "traceback": [
      "\u001b[0;31m---------------------------------------------------------------------------\u001b[0m",
      "\u001b[0;31mTypeError\u001b[0m                                 Traceback (most recent call last)",
      "Cell \u001b[0;32mIn[4], line 5\u001b[0m\n\u001b[1;32m      2\u001b[0m x0 \u001b[38;5;241m=\u001b[39m \u001b[38;5;241m20\u001b[39m \u001b[38;5;241m*\u001b[39m np\u001b[38;5;241m.\u001b[39mrandom\u001b[38;5;241m.\u001b[39mrand(\u001b[38;5;241m10\u001b[39m) \u001b[38;5;241m-\u001b[39m \u001b[38;5;241m10\u001b[39m\n\u001b[1;32m      3\u001b[0m obj \u001b[38;5;241m=\u001b[39m quad_obj(Q2, q2)\n\u001b[0;32m----> 5\u001b[0m \u001b[43mruncase\u001b[49m\u001b[43m(\u001b[49m\u001b[43mobj\u001b[49m\u001b[43m,\u001b[49m\u001b[43m \u001b[49m\u001b[43mx0\u001b[49m\u001b[43m,\u001b[49m\u001b[43m \u001b[49m\u001b[43mObjname\u001b[49m\u001b[43m \u001b[49m\u001b[38;5;241;43m=\u001b[39;49m\u001b[43m \u001b[49m\u001b[38;5;124;43m'\u001b[39;49m\u001b[38;5;124;43mp2\u001b[39;49m\u001b[38;5;124;43m'\u001b[39;49m\u001b[43m,\u001b[49m\u001b[43m \u001b[49m\u001b[43mline_search_method\u001b[49m\u001b[43m \u001b[49m\u001b[38;5;241;43m=\u001b[39;49m\u001b[43m \u001b[49m\u001b[38;5;124;43m'\u001b[39;49m\u001b[38;5;124;43mArmijo\u001b[39;49m\u001b[38;5;124;43m'\u001b[39;49m\u001b[43m,\u001b[49m\u001b[43m \u001b[49m\u001b[43mmake_table\u001b[49m\u001b[43m \u001b[49m\u001b[38;5;241;43m=\u001b[39;49m\u001b[43m \u001b[49m\u001b[38;5;28;43;01mTrue\u001b[39;49;00m\u001b[43m)\u001b[49m\n\u001b[1;32m      6\u001b[0m runcase(obj, x0, Objname \u001b[38;5;241m=\u001b[39m \u001b[38;5;124m'\u001b[39m\u001b[38;5;124mp2\u001b[39m\u001b[38;5;124m'\u001b[39m, line_search_method \u001b[38;5;241m=\u001b[39m \u001b[38;5;124m'\u001b[39m\u001b[38;5;124mWolfe\u001b[39m\u001b[38;5;124m'\u001b[39m, make_table \u001b[38;5;241m=\u001b[39m \u001b[38;5;28;01mTrue\u001b[39;00m)\n",
      "\u001b[0;31mTypeError\u001b[0m: runcase() got an unexpected keyword argument 'line_search_method'"
     ]
    }
   ],
   "source": [
    "Q2, q2 = generate_quad_coeffs(10, 1000)\n",
    "x0 = 20 * np.random.rand(10) - 10\n",
    "obj = quad_obj(Q2, q2)\n",
    "\n",
    "runcase(obj, x0, Objname = 'p2', make_table = True)\n",
    "#runcase(obj, x0, Objname = 'p2', line_search_method = 'Wolfe', make_table = True)"
   ]
  },
  {
   "cell_type": "markdown",
   "metadata": {},
   "source": [
    "This is for the problem 3"
   ]
  },
  {
   "cell_type": "code",
   "execution_count": null,
   "metadata": {},
   "outputs": [],
   "source": [
    "Q3, q3 = generate_quad_coeffs(1000, 10)\n",
    "x0 = 20 * np.random.rand(1000) - 10\n",
    "obj = quad_obj(Q3, q3)\n",
    "\n",
    "runcase(obj, x0, Objname = 'p3', make_table = True)\n",
    "#runcase(obj, x0, Objname = 'p3', line_search_method = 'Wolfe', make_table = True)"
   ]
  },
  {
   "cell_type": "markdown",
   "metadata": {},
   "source": [
    "This is for the problem 4"
   ]
  },
  {
   "cell_type": "code",
   "execution_count": null,
   "metadata": {},
   "outputs": [],
   "source": [
    "Q4, q4 = generate_quad_coeffs(1000, 1000)\n",
    "x0 = 20 * np.random.rand(1000) - 10\n",
    "obj = quad_obj(Q4, q4)\n",
    "\n",
    "runcase(obj, x0, Objname = 'p4', line_search_method = 'Armijo', make_table = True)\n",
    "runcase(obj, x0, Objname = 'p4', line_search_method = 'Wolfe', make_table = True)"
   ]
  },
  {
   "cell_type": "markdown",
   "metadata": {},
   "source": [
    "This is for the problem 5"
   ]
  },
  {
   "cell_type": "code",
   "execution_count": null,
   "metadata": {},
   "outputs": [],
   "source": [
    "# Problem 5\n",
    "\n",
    "Q = np.array([[5, 1, 0, 0.5], [1, 4, 0.5, 0], [0, 0.5, 3, 0], [0.5, 0, 0, 2]])\n",
    "sigma = 0.0001\n",
    "x0 = np.array([np.cos(70), np.sin(70), np.cos(70), np.sin(70)])\n",
    "obj = special_quad_obj(Q, sigma)\n",
    "\n",
    "runcase(obj, x0, Objname = 'p5', line_search_method = 'Armijo', make_table = True)\n",
    "runcase(obj, x0, Objname = 'p5', line_search_method = 'Wolfe', make_table = True)"
   ]
  },
  {
   "cell_type": "markdown",
   "metadata": {},
   "source": [
    "this is for the problem 6"
   ]
  },
  {
   "cell_type": "code",
   "execution_count": null,
   "metadata": {},
   "outputs": [],
   "source": [
    "# Problem 6\n",
    "\n",
    "Q = np.array([[5, 1, 0, 0.5], [1, 4, 0.5, 0], [0, 0.5, 3, 0], [0.5, 0, 0, 2]])\n",
    "sigma = 10000\n",
    "x0 = np.array([np.cos(70), np.sin(70), np.cos(70), np.sin(70)])\n",
    "obj = special_quad_obj(Q, sigma)\n",
    "\n",
    "runcase(obj, x0, Objname = 'p6', line_search_method = 'Armijo', make_table = True)\n",
    "runcase(obj, x0, Objname = 'p6', line_search_method = 'Wolfe', make_table = True)"
   ]
  },
  {
   "cell_type": "markdown",
   "metadata": {},
   "source": [
    "this is for the problem 7"
   ]
  },
  {
   "cell_type": "code",
   "execution_count": null,
   "metadata": {},
   "outputs": [],
   "source": [
    "# Problem 7\n",
    "\n",
    "obj = rosenbrock_obj(2)\n",
    "x0 = np.array([-1.2, 1])\n",
    "\n",
    "runcase(obj, x0, Objname = 'p7', line_search_method = 'Armijo', make_table = True)\n",
    "runcase(obj, x0, Objname = 'p7', line_search_method = 'Wolfe', make_table = True)"
   ]
  },
  {
   "cell_type": "markdown",
   "metadata": {},
   "source": [
    "this is for the problem 8"
   ]
  },
  {
   "cell_type": "code",
   "execution_count": null,
   "metadata": {},
   "outputs": [],
   "source": [
    "obj = rosenbrock_obj(100)\n",
    "x0 = np.array([-1.2] + [1]*99)\n",
    "\n",
    "runcase(obj, x0, Objname = 'p8', line_search_method = 'Armijo', make_table = True)\n",
    "runcase(obj, x0, Objname = 'p8', line_search_method = 'Wolfe', make_table = True)"
   ]
  },
  {
   "cell_type": "markdown",
   "metadata": {},
   "source": [
    "this is for the problem 9"
   ]
  },
  {
   "cell_type": "code",
   "execution_count": null,
   "metadata": {},
   "outputs": [],
   "source": [
    "y = np.array([1.5, 2.25, 2.625])\n",
    "obj = data_fit_obj(y)\n",
    "x0 = np.array([1, 1])\n",
    "\n",
    "runcase(obj, x0, Objname = 'p9', line_search_method = 'Armijo', make_table = True)\n",
    "runcase(obj, x0, Objname = 'p9', line_search_method = 'Wolfe', make_table = True)"
   ]
  },
  {
   "cell_type": "markdown",
   "metadata": {},
   "source": [
    "this is for the problem 10"
   ]
  },
  {
   "cell_type": "code",
   "execution_count": null,
   "metadata": {},
   "outputs": [],
   "source": [
    "obj = exponential_obj(10)\n",
    "x0 = np.array([1] + [0]*9)\n",
    "\n",
    "runcase(obj, x0, Objname = 'p10', line_search_method = 'Armijo', make_table = True)\n",
    "runcase(obj, x0, Objname = 'p10', line_search_method = 'Wolfe', make_table = True)"
   ]
  },
  {
   "cell_type": "markdown",
   "metadata": {},
   "source": [
    "this is for the problem 11"
   ]
  },
  {
   "cell_type": "code",
   "execution_count": null,
   "metadata": {},
   "outputs": [],
   "source": [
    "obj = exponential_obj(100)\n",
    "x0 = np.array([1] + [0]*99)\n",
    "\n",
    "runcase(obj, x0, Objname = 'p11', line_search_method = 'Armijo', make_table = True)\n",
    "runcase(obj, x0, Objname = 'p11', line_search_method = 'Wolfe', make_table = True)\n"
   ]
  },
  {
   "cell_type": "markdown",
   "metadata": {},
   "source": [
    "this is for the problem 12"
   ]
  },
  {
   "cell_type": "code",
   "execution_count": null,
   "metadata": {},
   "outputs": [],
   "source": [
    "obj = genhump_obj(5)\n",
    "x0 = np.array([-506.2, 506.2, 506.2, 506.2, 506.2])\n",
    "\n",
    "runcase(obj, x0, Objname = 'p12', line_search_method = 'Armijo', make_table = True)\n",
    "runcase(obj, x0, Objname = 'p12', line_search_method = 'Wolfe', make_table = True)"
   ]
  },
  {
   "cell_type": "markdown",
   "metadata": {},
   "source": [
    "The following code is for extracting the txt file, and plot the function value and gradient value vs iteration"
   ]
  },
  {
   "cell_type": "code",
   "execution_count": null,
   "metadata": {},
   "outputs": [],
   "source": [
    "import matplotlib.pyplot as plt\n",
    "import pandas as pd\n",
    "import numpy as np\n",
    "\n",
    "# Define the list of methods and line searches\n",
    "method_list = ['BFGS', 'gradient_descend', 'L-BFGS', 'modified_Newton']\n",
    "line_search_list = ['Armijo', 'Wolfe']\n",
    "\n",
    "def plot_for_problem(i):\n",
    "    # Setup the figure for this problem with subplots for function value and gradient norm\n",
    "    fig, axs = plt.subplots(4, 4, figsize=(24, 16), sharex='col')  # 4 rows, 4 columns\n",
    "    axs = axs.flatten()\n",
    "    \n",
    "    # Title for the entire figure\n",
    "    plt.suptitle(f'Performance Comparison for Problem {i}', fontsize=16)\n",
    "\n",
    "    for j, (method, line_search) in enumerate([(m, ls) for m in method_list for ls in line_search_list]):\n",
    "        try:\n",
    "            # Load the result data\n",
    "            df = pd.read_csv(f'result/p{i}_{method}_{line_search}.txt', delim_whitespace=True)\n",
    "            # Log scale transformations to handle large variations in values\n",
    "            df['fval'] = np.log(df['fval'].replace(0, np.nan))\n",
    "            df['||grad||'] = np.log(df['||grad||'].replace(0, np.nan))\n",
    "\n",
    "            # Function Value Plot\n",
    "            ax_fval = axs[2*j]  # Even index for function values\n",
    "            ax_fval.plot(df['Iter'], df['fval'], label=f'{method}, {line_search}')\n",
    "            ax_fval.set_title(f'{method} + {line_search} (Fval)')\n",
    "            ax_fval.set_ylabel('Log Function Value')\n",
    "            ax_fval.legend()\n",
    "\n",
    "            # Gradient Norm Plot\n",
    "            ax_grad = axs[2*j + 1]  # Odd index for gradient norms\n",
    "            ax_grad.plot(df['Iter'], df['||grad||'], label=f'{method}, {line_search}', color='red')\n",
    "            ax_grad.set_title(f'{method} + {line_search} (Grad Norm)')\n",
    "            ax_grad.set_ylabel('Log Gradient Norm')\n",
    "            ax_grad.legend()\n",
    "\n",
    "        except FileNotFoundError:\n",
    "            axs[2*j].set_title('Data Not Found')\n",
    "            axs[2*j].set_visible(False)\n",
    "            axs[2*j + 1].set_title('Data Not Found')\n",
    "            axs[2*j + 1].set_visible(False)\n",
    "\n",
    "    # Adjust layout and save the figure\n",
    "    plt.tight_layout(rect=[0, 0.03, 1, 0.95])\n",
    "    plt.savefig(f'Problem_{i}_Comparison.png')  # Save figure to PNG file\n",
    "    plt.show()\n",
    "\n",
    "# Generate plots for each problem\n",
    "for i in range(1, 13):  # Assuming there are 12 problems\n",
    "    plot_for_problem(i)\n"
   ]
  }
 ],
 "metadata": {
  "kernelspec": {
   "display_name": "qids-2023-comp",
   "language": "python",
   "name": "python3"
  },
  "language_info": {
   "codemirror_mode": {
    "name": "ipython",
    "version": 3
   },
   "file_extension": ".py",
   "mimetype": "text/x-python",
   "name": "python",
   "nbconvert_exporter": "python",
   "pygments_lexer": "ipython3",
   "version": "3.12.2"
  }
 },
 "nbformat": 4,
 "nbformat_minor": 2
}
